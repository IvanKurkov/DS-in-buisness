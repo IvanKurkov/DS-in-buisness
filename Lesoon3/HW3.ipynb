{
  "cells": [
    {
      "cell_type": "code",
      "execution_count": null,
      "metadata": {
        "id": "2XOGYQYjuTIA"
      },
      "outputs": [],
      "source": [
        "import seaborn as sns\n",
        "import matplotlib.pyplot as plt\n",
        "\n",
        "import itertools\n",
        "import numpy as np\n",
        "import pandas as pd\n",
        "from sklearn.linear_model import LogisticRegression\n",
        "from sklearn.model_selection import cross_val_score, train_test_split\n",
        "from sklearn.pipeline import Pipeline, make_pipeline\n",
        "from sklearn.base import BaseEstimator, TransformerMixin\n",
        "from sklearn.metrics import precision_recall_curve, roc_curve, roc_auc_score, confusion_matrix"
      ]
    },
    {
      "cell_type": "code",
      "execution_count": null,
      "metadata": {
        "id": "iHLJzZIBuTLY"
      },
      "outputs": [],
      "source": [
        "def plot_confusion_matrix(cm, classes,\n",
        "                          normalize=False,\n",
        "                          title='Confusion matrix',\n",
        "                          cmap=plt.cm.Blues):\n",
        "    \"\"\"\n",
        "    This function prints and plots the confusion matrix.\n",
        "    Normalization can be applied by setting `normalize=True`.\n",
        "    \"\"\"\n",
        "    plt.imshow(cm, interpolation='nearest', cmap=cmap)\n",
        "    plt.title(title)\n",
        "    plt.colorbar()\n",
        "    tick_marks = np.arange(len(classes))\n",
        "    plt.xticks(tick_marks, classes, rotation=45)\n",
        "    plt.yticks(tick_marks, classes)\n",
        "\n",
        "    if normalize:\n",
        "        cm = cm.astype('float') / cm.sum(axis=1)[:, np.newaxis]\n",
        "        print(\"Normalized confusion matrix\")\n",
        "    else:\n",
        "        print('Confusion matrix, without normalization')\n",
        "\n",
        "    print(cm)\n",
        "\n",
        "    thresh = cm.max() / 2.\n",
        "    for i, j in itertools.product(range(cm.shape[0]), range(cm.shape[1])):\n",
        "        plt.text(j, i, cm[i, j],\n",
        "                 horizontalalignment=\"center\",\n",
        "                 color=\"white\" if cm[i, j] > thresh else \"black\")\n",
        "\n",
        "    plt.tight_layout()\n",
        "    plt.ylabel('True label')\n",
        "    plt.xlabel('Predicted label')"
      ]
    },
    {
      "cell_type": "markdown",
      "metadata": {
        "id": "JKqZSl_XuTMT"
      },
      "source": [
        "## Кейс 2 - определение ССЗ"
      ]
    },
    {
      "cell_type": "markdown",
      "metadata": {
        "id": "PpAgtE3_uTMU"
      },
      "source": [
        "ссылка на соревнование - https://mlbootcamp.ru/ru/round/12/sandbox/\n",
        "\n",
        "В идеале бы конечно всех людей отправить на обследования, но количество тестов ограничено, бюджет ограничен, поэтому нужно отбирать только тех людей, у которых повышен риск сердечно-сосудистых заболеваний."
      ]
    },
    {
      "cell_type": "markdown",
      "metadata": {
        "id": "fHVSaRVCuTMV"
      },
      "source": [
        "В рамках конкурса вам нужно предсказать наличие сердечно-сосудистых заболеваний по результатам классического врачебного осмотра. Датасет сформирован из 100.000 реальных клинических анализов, и в нём используются признаки, которые можно разбить на 3 группы:\n",
        "\n",
        " \n",
        "\n",
        "Объективные признаки:\n",
        "\n",
        " - Возраст\n",
        " - Рост\n",
        " - Вес\n",
        " - Пол\n",
        " \n",
        "\n",
        "Результаты измерения:\n",
        "\n",
        " - Артериальное давление верхнее и нижнее\n",
        " - Холестерин\n",
        " - Глюкоза\n",
        " \n",
        "\n",
        "Субъективные признаки:\n",
        "\n",
        " - Курение\n",
        " - Употребление Алкоголя\n",
        " - Физическая активность\n",
        " \n",
        "\n",
        "Возраст дан в днях. Значения показателей холестерина и глюкозы представлены одним из трех классов: норма, выше нормы, значительно выше нормы. Значения субъективных признаков — бинарны.\n",
        "\n",
        "Все показатели даны на момент осмотра."
      ]
    },
    {
      "cell_type": "markdown",
      "metadata": {
        "id": "uOepmUfRuTMi"
      },
      "source": [
        "Таргет - наличие сердечно-сосудистых заболеваний (ССЗ)"
      ]
    },
    {
      "cell_type": "markdown",
      "source": [
        "Ссылка на google drive: https://drive.google.com/file/d/1Si4EJ_RexI3Q7yZU8eLjgp4ORe_BXr4G"
      ],
      "metadata": {
        "id": "FkGlZFSjdPhi"
      }
    },
    {
      "cell_type": "code",
      "source": [
        "!wget 'https://drive.google.com/uc?export=download&id=1Si4EJ_RexI3Q7yZU8eLjgp4ORe_BXr4G' -O train_case2.csv"
      ],
      "metadata": {
        "colab": {
          "base_uri": "https://localhost:8080/"
        },
        "id": "ttqVNPeaJm7G",
        "outputId": "573dd117-e419-42f4-deae-89563acf9dd0"
      },
      "execution_count": null,
      "outputs": [
        {
          "output_type": "stream",
          "name": "stdout",
          "text": [
            "--2022-05-22 09:01:32--  https://drive.google.com/uc?export=download&id=1Si4EJ_RexI3Q7yZU8eLjgp4ORe_BXr4G\n",
            "Resolving drive.google.com (drive.google.com)... 172.253.122.113, 172.253.122.101, 172.253.122.102, ...\n",
            "Connecting to drive.google.com (drive.google.com)|172.253.122.113|:443... connected.\n",
            "HTTP request sent, awaiting response... 303 See Other\n",
            "Location: https://doc-00-c0-docs.googleusercontent.com/docs/securesc/ha0ro937gcuc7l7deffksulhg5h7mbp1/5cu9qjf5j48etrvudc04rer2635k68m1/1653210075000/14904333240138417226/*/1Si4EJ_RexI3Q7yZU8eLjgp4ORe_BXr4G?e=download [following]\n",
            "Warning: wildcards not supported in HTTP.\n",
            "--2022-05-22 09:01:33--  https://doc-00-c0-docs.googleusercontent.com/docs/securesc/ha0ro937gcuc7l7deffksulhg5h7mbp1/5cu9qjf5j48etrvudc04rer2635k68m1/1653210075000/14904333240138417226/*/1Si4EJ_RexI3Q7yZU8eLjgp4ORe_BXr4G?e=download\n",
            "Resolving doc-00-c0-docs.googleusercontent.com (doc-00-c0-docs.googleusercontent.com)... 172.217.0.33, 2607:f8b0:4004:800::2001\n",
            "Connecting to doc-00-c0-docs.googleusercontent.com (doc-00-c0-docs.googleusercontent.com)|172.217.0.33|:443... connected.\n",
            "HTTP request sent, awaiting response... 200 OK\n",
            "Length: 2941524 (2.8M) [text/csv]\n",
            "Saving to: ‘train_case2.csv’\n",
            "\n",
            "train_case2.csv     100%[===================>]   2.80M  --.-KB/s    in 0.05s   \n",
            "\n",
            "2022-05-22 09:01:33 (53.8 MB/s) - ‘train_case2.csv’ saved [2941524/2941524]\n",
            "\n"
          ]
        }
      ]
    },
    {
      "cell_type": "code",
      "execution_count": null,
      "metadata": {
        "id": "eyWhvm-wuTMl",
        "outputId": "7bfdffe8-8803-4a65-c52e-8d8ff977981f",
        "colab": {
          "base_uri": "https://localhost:8080/",
          "height": 198
        }
      },
      "outputs": [
        {
          "output_type": "stream",
          "name": "stderr",
          "text": [
            "/usr/local/lib/python3.7/dist-packages/IPython/core/interactiveshell.py:2882: FutureWarning: In a future version of pandas all arguments of read_csv except for the argument 'filepath_or_buffer' will be keyword-only\n",
            "  exec(code_obj, self.user_global_ns, self.user_ns)\n"
          ]
        },
        {
          "output_type": "execute_result",
          "data": {
            "text/plain": [
              "   id    age  gender  height  weight  ap_hi  ap_lo  cholesterol  gluc  smoke  \\\n",
              "0   0  18393       2     168    62.0    110     80            1     1      0   \n",
              "1   1  20228       1     156    85.0    140     90            3     1      0   \n",
              "2   2  18857       1     165    64.0    130     70            3     1      0   \n",
              "\n",
              "   alco  active  cardio  \n",
              "0     0       1       0  \n",
              "1     0       1       1  \n",
              "2     0       0       1  "
            ],
            "text/html": [
              "\n",
              "  <div id=\"df-5e8defc7-cda5-4d51-aa4d-bbc00e11b32a\">\n",
              "    <div class=\"colab-df-container\">\n",
              "      <div>\n",
              "<style scoped>\n",
              "    .dataframe tbody tr th:only-of-type {\n",
              "        vertical-align: middle;\n",
              "    }\n",
              "\n",
              "    .dataframe tbody tr th {\n",
              "        vertical-align: top;\n",
              "    }\n",
              "\n",
              "    .dataframe thead th {\n",
              "        text-align: right;\n",
              "    }\n",
              "</style>\n",
              "<table border=\"1\" class=\"dataframe\">\n",
              "  <thead>\n",
              "    <tr style=\"text-align: right;\">\n",
              "      <th></th>\n",
              "      <th>id</th>\n",
              "      <th>age</th>\n",
              "      <th>gender</th>\n",
              "      <th>height</th>\n",
              "      <th>weight</th>\n",
              "      <th>ap_hi</th>\n",
              "      <th>ap_lo</th>\n",
              "      <th>cholesterol</th>\n",
              "      <th>gluc</th>\n",
              "      <th>smoke</th>\n",
              "      <th>alco</th>\n",
              "      <th>active</th>\n",
              "      <th>cardio</th>\n",
              "    </tr>\n",
              "  </thead>\n",
              "  <tbody>\n",
              "    <tr>\n",
              "      <th>0</th>\n",
              "      <td>0</td>\n",
              "      <td>18393</td>\n",
              "      <td>2</td>\n",
              "      <td>168</td>\n",
              "      <td>62.0</td>\n",
              "      <td>110</td>\n",
              "      <td>80</td>\n",
              "      <td>1</td>\n",
              "      <td>1</td>\n",
              "      <td>0</td>\n",
              "      <td>0</td>\n",
              "      <td>1</td>\n",
              "      <td>0</td>\n",
              "    </tr>\n",
              "    <tr>\n",
              "      <th>1</th>\n",
              "      <td>1</td>\n",
              "      <td>20228</td>\n",
              "      <td>1</td>\n",
              "      <td>156</td>\n",
              "      <td>85.0</td>\n",
              "      <td>140</td>\n",
              "      <td>90</td>\n",
              "      <td>3</td>\n",
              "      <td>1</td>\n",
              "      <td>0</td>\n",
              "      <td>0</td>\n",
              "      <td>1</td>\n",
              "      <td>1</td>\n",
              "    </tr>\n",
              "    <tr>\n",
              "      <th>2</th>\n",
              "      <td>2</td>\n",
              "      <td>18857</td>\n",
              "      <td>1</td>\n",
              "      <td>165</td>\n",
              "      <td>64.0</td>\n",
              "      <td>130</td>\n",
              "      <td>70</td>\n",
              "      <td>3</td>\n",
              "      <td>1</td>\n",
              "      <td>0</td>\n",
              "      <td>0</td>\n",
              "      <td>0</td>\n",
              "      <td>1</td>\n",
              "    </tr>\n",
              "  </tbody>\n",
              "</table>\n",
              "</div>\n",
              "      <button class=\"colab-df-convert\" onclick=\"convertToInteractive('df-5e8defc7-cda5-4d51-aa4d-bbc00e11b32a')\"\n",
              "              title=\"Convert this dataframe to an interactive table.\"\n",
              "              style=\"display:none;\">\n",
              "        \n",
              "  <svg xmlns=\"http://www.w3.org/2000/svg\" height=\"24px\"viewBox=\"0 0 24 24\"\n",
              "       width=\"24px\">\n",
              "    <path d=\"M0 0h24v24H0V0z\" fill=\"none\"/>\n",
              "    <path d=\"M18.56 5.44l.94 2.06.94-2.06 2.06-.94-2.06-.94-.94-2.06-.94 2.06-2.06.94zm-11 1L8.5 8.5l.94-2.06 2.06-.94-2.06-.94L8.5 2.5l-.94 2.06-2.06.94zm10 10l.94 2.06.94-2.06 2.06-.94-2.06-.94-.94-2.06-.94 2.06-2.06.94z\"/><path d=\"M17.41 7.96l-1.37-1.37c-.4-.4-.92-.59-1.43-.59-.52 0-1.04.2-1.43.59L10.3 9.45l-7.72 7.72c-.78.78-.78 2.05 0 2.83L4 21.41c.39.39.9.59 1.41.59.51 0 1.02-.2 1.41-.59l7.78-7.78 2.81-2.81c.8-.78.8-2.07 0-2.86zM5.41 20L4 18.59l7.72-7.72 1.47 1.35L5.41 20z\"/>\n",
              "  </svg>\n",
              "      </button>\n",
              "      \n",
              "  <style>\n",
              "    .colab-df-container {\n",
              "      display:flex;\n",
              "      flex-wrap:wrap;\n",
              "      gap: 12px;\n",
              "    }\n",
              "\n",
              "    .colab-df-convert {\n",
              "      background-color: #E8F0FE;\n",
              "      border: none;\n",
              "      border-radius: 50%;\n",
              "      cursor: pointer;\n",
              "      display: none;\n",
              "      fill: #1967D2;\n",
              "      height: 32px;\n",
              "      padding: 0 0 0 0;\n",
              "      width: 32px;\n",
              "    }\n",
              "\n",
              "    .colab-df-convert:hover {\n",
              "      background-color: #E2EBFA;\n",
              "      box-shadow: 0px 1px 2px rgba(60, 64, 67, 0.3), 0px 1px 3px 1px rgba(60, 64, 67, 0.15);\n",
              "      fill: #174EA6;\n",
              "    }\n",
              "\n",
              "    [theme=dark] .colab-df-convert {\n",
              "      background-color: #3B4455;\n",
              "      fill: #D2E3FC;\n",
              "    }\n",
              "\n",
              "    [theme=dark] .colab-df-convert:hover {\n",
              "      background-color: #434B5C;\n",
              "      box-shadow: 0px 1px 3px 1px rgba(0, 0, 0, 0.15);\n",
              "      filter: drop-shadow(0px 1px 2px rgba(0, 0, 0, 0.3));\n",
              "      fill: #FFFFFF;\n",
              "    }\n",
              "  </style>\n",
              "\n",
              "      <script>\n",
              "        const buttonEl =\n",
              "          document.querySelector('#df-5e8defc7-cda5-4d51-aa4d-bbc00e11b32a button.colab-df-convert');\n",
              "        buttonEl.style.display =\n",
              "          google.colab.kernel.accessAllowed ? 'block' : 'none';\n",
              "\n",
              "        async function convertToInteractive(key) {\n",
              "          const element = document.querySelector('#df-5e8defc7-cda5-4d51-aa4d-bbc00e11b32a');\n",
              "          const dataTable =\n",
              "            await google.colab.kernel.invokeFunction('convertToInteractive',\n",
              "                                                     [key], {});\n",
              "          if (!dataTable) return;\n",
              "\n",
              "          const docLinkHtml = 'Like what you see? Visit the ' +\n",
              "            '<a target=\"_blank\" href=https://colab.research.google.com/notebooks/data_table.ipynb>data table notebook</a>'\n",
              "            + ' to learn more about interactive tables.';\n",
              "          element.innerHTML = '';\n",
              "          dataTable['output_type'] = 'display_data';\n",
              "          await google.colab.output.renderOutput(dataTable, element);\n",
              "          const docLink = document.createElement('div');\n",
              "          docLink.innerHTML = docLinkHtml;\n",
              "          element.appendChild(docLink);\n",
              "        }\n",
              "      </script>\n",
              "    </div>\n",
              "  </div>\n",
              "  "
            ]
          },
          "metadata": {},
          "execution_count": 4
        }
      ],
      "source": [
        "df = pd.read_csv('train_case2.csv', ';')\n",
        "df.head(3)"
      ]
    },
    {
      "cell_type": "markdown",
      "metadata": {
        "id": "mslyI3rkuTMq"
      },
      "source": [
        "Разделим наши данные на тренировочную и тестовую выборки"
      ]
    },
    {
      "cell_type": "code",
      "execution_count": null,
      "metadata": {
        "id": "8y5FPlYsuTMw"
      },
      "outputs": [],
      "source": [
        "# разделим данные на train/test\n",
        "X_train, X_test, y_train, y_test = train_test_split(df.drop(columns='cardio'), \n",
        "                                                    df['cardio'], random_state=0)"
      ]
    },
    {
      "cell_type": "markdown",
      "metadata": {
        "id": "iz0zpgeQuTMx"
      },
      "source": [
        "К полям:\n",
        "- gender, cholesterol применим OHE-кодирование\n",
        "- age, height, weight, ap_hi, ap_lo - standardScaler\n",
        "- gluc, smoke, alco, active - оставим пока как есть"
      ]
    },
    {
      "cell_type": "code",
      "execution_count": null,
      "metadata": {
        "id": "NZzwZ0DzuTM6"
      },
      "outputs": [],
      "source": [
        "class ColumnSelector(BaseEstimator, TransformerMixin):\n",
        "    \"\"\"\n",
        "    Transformer to select a single column from the data frame to perform additional transformations on\n",
        "    \"\"\"\n",
        "    def __init__(self, key):\n",
        "        self.key = key\n",
        "\n",
        "    def fit(self, X, y=None):\n",
        "        return self\n",
        "\n",
        "    def transform(self, X):\n",
        "        return X[self.key]\n",
        "    \n",
        "class NumberSelector(BaseEstimator, TransformerMixin):\n",
        "    \"\"\"\n",
        "    Transformer to select a single column from the data frame to perform additional transformations on\n",
        "    Use on numeric columns in the data\n",
        "    \"\"\"\n",
        "    def __init__(self, key):\n",
        "        self.key = key\n",
        "\n",
        "    def fit(self, X, y=None):\n",
        "        return self\n",
        "\n",
        "    def transform(self, X):\n",
        "        return X[[self.key]]\n",
        "    \n",
        "class OHEEncoder(BaseEstimator, TransformerMixin):\n",
        "    def __init__(self, key):\n",
        "        self.key = key\n",
        "        self.columns = []\n",
        "\n",
        "    def fit(self, X, y=None):\n",
        "        self.columns = [col for col in pd.get_dummies(X, prefix=self.key).columns]\n",
        "        return self\n",
        "\n",
        "    def transform(self, X):\n",
        "        X = pd.get_dummies(X, prefix=self.key)\n",
        "        test_columns = [col for col in X.columns]\n",
        "        for col_ in self.columns:\n",
        "            if col_ not in test_columns:\n",
        "                X[col_] = 0\n",
        "        return X[self.columns]\n",
        "\n",
        "\n",
        "from sklearn.preprocessing import StandardScaler\n",
        "\n",
        "\n",
        "continuos_cols = ['age', 'height', 'weight', 'ap_hi', 'ap_lo']\n",
        "cat_cols = ['gender', 'cholesterol']\n",
        "base_cols = ['gluc', 'smoke', 'alco', 'active']\n",
        "\n",
        "continuos_transformers = []\n",
        "cat_transformers = []\n",
        "base_transformers = []\n",
        "\n",
        "for cont_col in continuos_cols:\n",
        "    transfomer =  Pipeline([\n",
        "                ('selector', NumberSelector(key=cont_col)),\n",
        "                ('standard', StandardScaler())\n",
        "            ])\n",
        "    continuos_transformers.append((cont_col, transfomer))\n",
        "    \n",
        "for cat_col in cat_cols:\n",
        "    cat_transformer = Pipeline([\n",
        "                ('selector', ColumnSelector(key=cat_col)),\n",
        "                ('ohe', OHEEncoder(key=cat_col))\n",
        "            ])\n",
        "    cat_transformers.append((cat_col, cat_transformer))\n",
        "    \n",
        "for base_col in base_cols:\n",
        "    base_transformer = Pipeline([\n",
        "                ('selector', NumberSelector(key=base_col))\n",
        "            ])\n",
        "    base_transformers.append((base_col, base_transformer))"
      ]
    },
    {
      "cell_type": "markdown",
      "metadata": {
        "id": "kqbcTHEauTNC"
      },
      "source": [
        "Теперь объединим все наши трансформеры с помощью FeatureUnion"
      ]
    },
    {
      "cell_type": "code",
      "execution_count": null,
      "metadata": {
        "id": "UrSLisPTuTNE",
        "outputId": "1ebe7516-788e-4653-8492-91a76209eff3",
        "colab": {
          "base_uri": "https://localhost:8080/"
        }
      },
      "outputs": [
        {
          "output_type": "execute_result",
          "data": {
            "text/plain": [
              "array([[-1.73391771,  0.6873301 ,  0.74843904, ...,  1.        ,\n",
              "         0.        ,  1.        ],\n",
              "       [-1.67343538,  0.07758923, -0.29640123, ...,  0.        ,\n",
              "         0.        ,  1.        ],\n",
              "       [ 0.13738132,  1.17512278, -0.15708919, ...,  0.        ,\n",
              "         0.        ,  0.        ],\n",
              "       ...,\n",
              "       [ 1.17775864,  1.17512278, -0.15708919, ...,  0.        ,\n",
              "         0.        ,  1.        ],\n",
              "       [-0.47190715, -1.38578883,  0.74843904, ...,  0.        ,\n",
              "         0.        ,  1.        ],\n",
              "       [ 0.38174619,  0.56538192, -0.08743318, ...,  0.        ,\n",
              "         0.        ,  1.        ]])"
            ]
          },
          "metadata": {},
          "execution_count": 9
        }
      ],
      "source": [
        "from sklearn.pipeline import FeatureUnion\n",
        "\n",
        "feats = FeatureUnion(continuos_transformers+cat_transformers+base_transformers)\n",
        "feature_processing = Pipeline([('feats', feats)])\n",
        "\n",
        "feature_processing.fit_transform(X_train)"
      ]
    },
    {
      "cell_type": "markdown",
      "metadata": {
        "id": "gq_x1pNFuTNU"
      },
      "source": [
        "Добавим классификатор и запустим кросс-валидацию"
      ]
    },
    {
      "cell_type": "code",
      "execution_count": null,
      "metadata": {
        "id": "1611alE9uTNW",
        "outputId": "5a0e4c99-9c11-448e-a10c-d161a92da80b",
        "colab": {
          "base_uri": "https://localhost:8080/"
        }
      },
      "outputs": [
        {
          "output_type": "stream",
          "name": "stdout",
          "text": [
            "CV score is 0.7864573689384385+-0.004422021036885763\n"
          ]
        }
      ],
      "source": [
        "classifier = Pipeline([\n",
        "    ('features', feats),\n",
        "    ('classifier', LogisticRegression(random_state=42)),\n",
        "])\n",
        "\n",
        "\n",
        "# запустим кросс-валидацию\n",
        "cv_scores = cross_val_score(classifier, X_train, y_train, cv=7, scoring='roc_auc')\n",
        "cv_score = np.mean(cv_scores)\n",
        "cv_score_std = np.std(cv_scores)\n",
        "print(f'CV score is {cv_score}+-{cv_score_std}')\n",
        "\n",
        "# обучим пайплайн на всем тренировочном датасете\n",
        "classifier.fit(X_train, y_train)\n",
        "y_score = classifier.predict_proba(X_test)[:, 1]"
      ]
    },
    {
      "cell_type": "markdown",
      "metadata": {
        "id": "DgFEEWCzuTNf"
      },
      "source": [
        "Посчитаем precision/recall/f_score"
      ]
    },
    {
      "cell_type": "code",
      "execution_count": null,
      "metadata": {
        "id": "steFA0gTuTNg",
        "outputId": "2c510835-277e-423d-a0f3-0fe5537a1ecf",
        "colab": {
          "base_uri": "https://localhost:8080/"
        }
      },
      "outputs": [
        {
          "output_type": "stream",
          "name": "stdout",
          "text": [
            "Best Threshold=0.3869370891147379, F-Score=0.730, Precision=0.647, Recall=0.838\n"
          ]
        }
      ],
      "source": [
        "b = 1\n",
        "precision, recall, thresholds = precision_recall_curve(y_test.values, y_score)\n",
        "fscore = (1 +b**2) * (precision * recall) / (b**2 * precision + recall)\n",
        "# locate the index of the largest f score\n",
        "ix = np.argmax(fscore)\n",
        "print(f'Best Threshold={thresholds[ix]}, F-Score={fscore[ix]:.3f}, Precision={precision[ix]:.3f}, Recall={recall[ix]:.3f}')\n"
      ]
    },
    {
      "cell_type": "markdown",
      "metadata": {
        "id": "5KFvapbiuTNk"
      },
      "source": [
        "Нарисуем roc auc кривую."
      ]
    },
    {
      "cell_type": "code",
      "execution_count": null,
      "metadata": {
        "id": "QOR0-kTnuTNm",
        "outputId": "419950a1-670b-4434-e709-de6a2170a0e1",
        "colab": {
          "base_uri": "https://localhost:8080/",
          "height": 535
        }
      },
      "outputs": [
        {
          "output_type": "display_data",
          "data": {
            "text/plain": [
              "<Figure size 720x576 with 1 Axes>"
            ],
            "image/png": "[encoded data removed]"
          },
          "metadata": {}
        }
      ],
      "source": [
        "sns.set(font_scale=1.5)\n",
        "sns.set_color_codes(\"muted\")\n",
        "\n",
        "plt.figure(figsize=(10, 8))\n",
        "fpr, tpr, thresholds_ = roc_curve(y_test, y_score, pos_label=1)\n",
        "lw = 2\n",
        "plt.plot(fpr, tpr, lw=lw, label='ROC curve ')\n",
        "plt.plot([0, 1], [0, 1])\n",
        "plt.xlim([0.0, 1.0])\n",
        "plt.ylim([0.0, 1.05])\n",
        "plt.xlabel('False Positive Rate')\n",
        "plt.ylabel('True Positive Rate')\n",
        "plt.title('ROC curve')\n",
        "plt.savefig(\"ROC.png\")\n",
        "plt.show()"
      ]
    },
    {
      "cell_type": "code",
      "execution_count": null,
      "metadata": {
        "id": "Yc7YRCe4uTNy",
        "outputId": "304b05b9-0b36-4de2-ee8f-ef6cd5fd4766",
        "colab": {
          "base_uri": "https://localhost:8080/"
        }
      },
      "outputs": [
        {
          "output_type": "stream",
          "name": "stdout",
          "text": [
            "roc auc score: 0.7870081561637485\n",
            "roc auc score: 0.7840347790421852\n"
          ]
        }
      ],
      "source": [
        "from sklearn.metrics import roc_auc_score\n",
        "\n",
        "print(f\"roc auc score: {roc_auc_score(y_train, classifier.predict_proba(X_train)[:, 1])}\")\n",
        "\n",
        "print(f\"roc auc score: {roc_auc_score(y_test, classifier.predict_proba(X_test)[:, 1])}\")\n"
      ]
    },
    {
      "cell_type": "markdown",
      "metadata": {
        "id": "7dG0qFH1uTN0"
      },
      "source": [
        "Посмотрим на матрицу ошибок"
      ]
    },
    {
      "cell_type": "code",
      "execution_count": null,
      "metadata": {
        "id": "tS-ALOCJuTN2",
        "outputId": "f052c2d4-4c3d-4f37-a053-075f80f1b3db",
        "colab": {
          "base_uri": "https://localhost:8080/",
          "height": 648
        }
      },
      "outputs": [
        {
          "output_type": "stream",
          "name": "stdout",
          "text": [
            "Confusion matrix, without normalization\n",
            "[[4861 3959]\n",
            " [1411 7269]]\n"
          ]
        },
        {
          "output_type": "display_data",
          "data": {
            "text/plain": [
              "<Figure size 720x576 with 2 Axes>"
            ],
            "image/png": "[encoded data removed]"
          },
          "metadata": {}
        }
      ],
      "source": [
        "# мы уже нашли ранее \"оптимальный\" порог, когда максимизировали f_score\n",
        "font = {'size' : 15}\n",
        "\n",
        "plt.rc('font', **font)\n",
        "\n",
        "cnf_matrix = confusion_matrix(y_test, y_score > thresholds[ix])\n",
        "plt.figure(figsize=(10, 8))\n",
        "plot_confusion_matrix(cnf_matrix, classes=['cardio_0', 'cardio_1'],\n",
        "                      title='Confusion matrix')\n",
        "plt.savefig(\"conf_matrix.png\")\n",
        "plt.show()"
      ]
    },
    {
      "cell_type": "markdown",
      "metadata": {
        "id": "choNr-tRuTN4"
      },
      "source": [
        "Посчитаем FPR, TPR"
      ]
    },
    {
      "cell_type": "code",
      "execution_count": null,
      "metadata": {
        "id": "qqYcY09xuTN6",
        "outputId": "a5a7d60b-8579-49e6-93f6-4301da86476a",
        "colab": {
          "base_uri": "https://localhost:8080/"
        }
      },
      "outputs": [
        {
          "output_type": "execute_result",
          "data": {
            "text/plain": [
              "(0.837442396313364, 0.44886621315192743, 0.5511337868480726)"
            ]
          },
          "metadata": {},
          "execution_count": 15
        }
      ],
      "source": [
        "TN = cnf_matrix[0][0]\n",
        "FN = cnf_matrix[1][0]\n",
        "TP = cnf_matrix[1][1]\n",
        "FP = cnf_matrix[0][1]\n",
        "\n",
        "TPR = TP / (TP+FN)\n",
        "FPR = FP / (FP+TN)\n",
        "TNR = TN / (FP+TN)\n",
        "TPR, FPR, TNR"
      ]
    },
    {
      "cell_type": "markdown",
      "metadata": {
        "id": "5e9445DZuTN-"
      },
      "source": [
        "False Positive Rate довольно высокий ~ 0.45.\n",
        "\n",
        "Это означает, что 45 процентов здоровых пациентов получат метку 1."
      ]
    },
    {
      "cell_type": "markdown",
      "metadata": {
        "id": "kubScvxuuTOA"
      },
      "source": [
        "\n",
        "Пусть:\n",
        "\n",
        "- стоимость лечения 15000р, если сделали тест и начали лечить вовремя\n",
        "- стоимость лечения 20000р, если упустили и начали лечить когда уже проявились все симптомы\n",
        "- стоимость теста 1400р\n",
        "\n",
        "\n",
        "\n",
        "- лишних тестов сделали FP = cnf_matrix[0][1]\n",
        "- пропустили больных FN = cnf_matrix[1][0]\n",
        "- правильных тестов сделали TP = cnf_matrix[1][1]\n",
        "\n",
        "Оценим расходы, если не делать тест и ждать симптомов:\n"
      ]
    },
    {
      "cell_type": "code",
      "source": [
        "rubl_test = 1400\n",
        "rubl_early_treatment = 15000\n",
        "rubl_late_treatment = 20000"
      ],
      "metadata": {
        "id": "Bnfn3FaGQu8p"
      },
      "execution_count": null,
      "outputs": []
    },
    {
      "cell_type": "code",
      "source": [
        "rubl_1 = (FN + TP) * rubl_late_treatment\n",
        "print('расходы, если не делать тест и ждать симптомов:', rubl_1)"
      ],
      "metadata": {
        "colab": {
          "base_uri": "https://localhost:8080/"
        },
        "id": "lPLcBPv-QvYk",
        "outputId": "110ed959-c853-4e78-d7e0-58c7654b3c74"
      },
      "execution_count": null,
      "outputs": [
        {
          "output_type": "stream",
          "name": "stdout",
          "text": [
            "расходы, если не делать тест и ждать симптомов: 173600000\n"
          ]
        }
      ]
    },
    {
      "cell_type": "markdown",
      "source": [
        "\n",
        "\n",
        "Расходы, если сделать тест всем:\n"
      ],
      "metadata": {
        "id": "m9GXEWb0Q_v2"
      }
    },
    {
      "cell_type": "code",
      "source": [
        "rubl_test_all = np.sum(cnf_matrix) * rubl_test + (FN + TP) * rubl_early_treatment\n",
        "print('расходы, если делать тест всем и лечить группу большых:', rubl_test_all)\n"
      ],
      "metadata": {
        "colab": {
          "base_uri": "https://localhost:8080/"
        },
        "id": "OmGh0xWEQz9e",
        "outputId": "434bab8b-8f88-4ef3-e52c-ba639a905a2a"
      },
      "execution_count": null,
      "outputs": [
        {
          "output_type": "stream",
          "name": "stdout",
          "text": [
            "расходы, если делать тест всем и лечить группу большых: 154700000\n"
          ]
        }
      ]
    },
    {
      "cell_type": "markdown",
      "source": [
        "\n",
        "\n",
        "Расходы если использовать ML:\n"
      ],
      "metadata": {
        "id": "7_PqOwiuQ9_u"
      }
    },
    {
      "cell_type": "code",
      "source": [
        "rubl_ML = (FP + TP) * rubl_test + FN * rubl_late_treatment + TP * rubl_early_treatment\n",
        "print('расходы, если использовать МЛ:', rubl_ML)"
      ],
      "metadata": {
        "colab": {
          "base_uri": "https://localhost:8080/"
        },
        "id": "liYnhAoLQ3Dm",
        "outputId": "26b5655c-e577-48ba-a0fe-1e60e7645cb4"
      },
      "execution_count": null,
      "outputs": [
        {
          "output_type": "stream",
          "name": "stdout",
          "text": [
            "расходы, если использовать МЛ: 152974200\n"
          ]
        }
      ]
    },
    {
      "cell_type": "markdown",
      "source": [
        "\n",
        "\n",
        "Оценим разницу:\n"
      ],
      "metadata": {
        "id": "GGKySc1sQ74P"
      }
    },
    {
      "cell_type": "code",
      "source": [
        "print('Расходы \"решение не делать тесты - расходы с МL:\"', rubl_1 - rubl_ML)\n",
        "print('Расходы \"решение не делать тесты - расходы сделать тесты всем\":', rubl_1 - rubl_test_all)\n",
        "print('Расходы \"сделать тесты всем - решение делать тесты ML\":', rubl_test_all - rubl_ML)"
      ],
      "metadata": {
        "colab": {
          "base_uri": "https://localhost:8080/"
        },
        "id": "4_ll3Wm7Q5Y8",
        "outputId": "9303fe07-5fc3-41a2-f12c-d8e71a2692cf"
      },
      "execution_count": null,
      "outputs": [
        {
          "output_type": "stream",
          "name": "stdout",
          "text": [
            "Расходы \"решение не делать тесты - расходы с МL:\" 20625800\n",
            "Расходы \"решение не делать тесты - расходы сделать тесты всем\": 18900000\n",
            "Расходы \"сделать тесты всем - решение делать тесты ML\": 1725800\n"
          ]
        }
      ]
    },
    {
      "cell_type": "markdown",
      "source": [
        "\n",
        "\n",
        "Метрика по деньгам : получить меньше расходов чем при полном тесте"
      ],
      "metadata": {
        "id": "UDKtpiI6RCxU"
      }
    },
    {
      "cell_type": "code",
      "source": [
        "def business_threshold_calibrate(y_test, y_score, thresholds,\n",
        "                                 rubl_test=100, rubl_early_treatment=100, rubl_late_treatment=1000):\n",
        "    business_threshold = 0\n",
        "    r_test_all_r_ML_ = 0\n",
        "\n",
        "    rubl_ML_ = 1_000_000_000 \n",
        "\n",
        "    rs = []\n",
        "    n = 20\n",
        "    for opt_buisness_tr in np.linspace(0, 1, n).tolist():\n",
        "        # подберем порог для улучшения бизнесс показателя\n",
        "\n",
        "        cnf_matrix = confusion_matrix(y_test, y_score > (opt_buisness_tr))\n",
        "        TN = cnf_matrix[0][0]\n",
        "        FN = cnf_matrix[1][0]\n",
        "        TP = cnf_matrix[1][1]\n",
        "        FP = cnf_matrix[0][1]\n",
        "\n",
        "        rubl_1 = (TP + FN) * rubl_late_treatment\n",
        "        rubl_test_all = np.sum(cnf_matrix) * rubl_test + (FN + TP) * rubl_early_treatment\n",
        "        rubl_ML = (TP + FP) * rubl_test + FN * rubl_late_treatment + TP * rubl_early_treatment\n",
        "        \n",
        "        r_test_all_r_ML = rubl_test_all - rubl_ML \n",
        "        \n",
        "        if rubl_ML < rubl_ML_:            \n",
        "            business_threshold = opt_buisness_tr\n",
        "            \n",
        "            rubl_ML_ = rubl_ML\n",
        "            \n",
        "        rs.append(rubl_ML)   \n",
        "            \n",
        "    \n",
        "    print('расходы, если не делать тест и ждать симптомов:', rubl_1)\n",
        "    print('расходы, если делать тест всем и лечить группу больных:', rubl_test_all)\n",
        "    print('расходы, если использовать МЛ:', rubl_ML_)\n",
        "\n",
        "    print('Расходы \"решение не делать тесты - расходы с МL:\"', rubl_1 - rubl_ML_)\n",
        "    print('Расходы \"решение не делать тесты - расходы сделать тесты всем\":', rubl_1 - rubl_test_all)\n",
        "    print('Расходы \"сделать тесты всем - решение делать тесты ML\":', rubl_test_all - rubl_ML_)\n",
        "    \n",
        "    plt.title('Потери при МЛ решении')\n",
        "    plt.xlabel('Отсечка')\n",
        "    plt.ylabel('Потери')\n",
        "    plt.plot(np.linspace(0,1,n), rs)\n",
        "    plt.show()\n",
        "    \n",
        "    return business_threshold"
      ],
      "metadata": {
        "id": "wUdTFxtaRFOn"
      },
      "execution_count": null,
      "outputs": []
    },
    {
      "cell_type": "code",
      "source": [
        "busines_tr = business_threshold_calibrate(y_test, y_score, \n",
        "                                          thresholds[ix],\n",
        "                                          rubl_test=1400, \n",
        "                                          rubl_early_treatment=15000, \n",
        "                                          rubl_late_treatment=20000)\n",
        "\n",
        "print('уровень порога по бизнес метрике', busines_tr)\n",
        "print('уровень порога по f1 метрике', thresholds[ix])"
      ],
      "metadata": {
        "colab": {
          "base_uri": "https://localhost:8080/",
          "height": 457
        },
        "id": "Melr9xD4RGw8",
        "outputId": "986aa64d-17ad-4ddf-b5d3-991beaeb4b61"
      },
      "execution_count": null,
      "outputs": [
        {
          "output_type": "stream",
          "name": "stdout",
          "text": [
            "расходы, если не делать тест и ждать симптомов: 173600000\n",
            "расходы, если делать тест всем и лечить группу больных: 154700000\n",
            "расходы, если использовать МЛ: 152712400\n",
            "Расходы \"решение не делать тесты - расходы с МL:\" 20887600\n",
            "Расходы \"решение не делать тесты - расходы сделать тесты всем\": 18900000\n",
            "Расходы \"сделать тесты всем - решение делать тесты ML\": 1987600\n"
          ]
        },
        {
          "output_type": "display_data",
          "data": {
            "text/plain": [
              "<Figure size 432x288 with 1 Axes>"
            ],
            "image/png": "[encoded data removed]"
          },
          "metadata": {}
        },
        {
          "output_type": "stream",
          "name": "stdout",
          "text": [
            "уровень порога по бизнес метрике 0.3157894736842105\n",
            "уровень порога по f1 метрике 0.3869370891147379\n"
          ]
        }
      ]
    },
    {
      "cell_type": "markdown",
      "metadata": {
        "id": "UEhpjx1UuTOK"
      },
      "source": [
        "## Дополнительные ссылки"
      ]
    },
    {
      "cell_type": "markdown",
      "metadata": {
        "id": "h15kFWJduTOV"
      },
      "source": [
        "1. https://dyakonov.org/2017/07/28/auc-roc-площадь-под-кривой-ошибок/\n",
        "2. https://en.wikipedia.org/wiki/Receiver_operating_characteristic\n",
        "3. Метрики для классификации (видео) - https://youtube.com/playlist?list=PLkJJmZ1EJno6CLyvD4DHc32Fed6cPBHje\n",
        "4. Метрики для регрессии (видео) - https://youtu.be/vh2smjQyhp8\n",
        "5. ROC-AUC (видео) - https://youtu.be/v6PPG8J_Egs"
      ]
    },
    {
      "cell_type": "markdown",
      "metadata": {
        "id": "VUsXReyBuTOB"
      },
      "source": [
        "## Домашнее задание"
      ]
    },
    {
      "cell_type": "markdown",
      "metadata": {
        "id": "-B3d5AfduTOC"
      },
      "source": [
        "1. Обучить несколько разных моделей на наборе данных ССЗ (train_case2.csv): логрег, бустинг, лес и т.д - на ваш выбор 2-3 варианта\n",
        "2. Вывести сравнение полученных моделей по основным метрикам классификации: pr/rec/auc/f_score (можно в виде таблицы, где строки - модели, а столбцы - метрики)\n",
        "3. Вывести сравнение полученных моделей по метрикам бизнеса по показателям с урока\n",
        "    - стоимость лечения 15000р, если сделали тест и начали лечить вовремя\n",
        "    - стоимость лечения 20000р, если упустили и начали лечить когда уже проявились все симптомы\n",
        "    - стоимость теста 1400р\n",
        "4. Сделать выводы о том, какая модель справилась с задачей лучше других\n",
        "5. *Найти порог классификации по деньгам для лучшей модели\n",
        "    - Стоимость лечения 15000р, если сделали тест и начали лечить вовремя\n",
        "    - Стоимость лечения 20000р, если упустили и начали лечить когда уже проявились все симптомы\n",
        "    - Стоимость теста 1400р"
      ]
    },
    {
      "cell_type": "markdown",
      "source": [
        "### Обучим несколько моделей и посмотрим на результаты. Гиперпараметры моделей возьмем по умолчанию, т.к. на уроке брали параметры по умолчанию."
      ],
      "metadata": {
        "id": "Rlws0c6zFDRK"
      }
    },
    {
      "cell_type": "code",
      "source": [
        "from sklearn.ensemble import RandomForestClassifier\n",
        "from sklearn.neighbors import KNeighborsClassifier\n",
        "from sklearn.ensemble import GradientBoostingClassifier"
      ],
      "metadata": {
        "id": "w6luIsEIE9d-"
      },
      "execution_count": null,
      "outputs": []
    },
    {
      "cell_type": "code",
      "source": [
        "list_models = [RandomForestClassifier(random_state=42), KNeighborsClassifier(), GradientBoostingClassifier(random_state=42), LogisticRegression(random_state=42)]\n",
        "indexes = ['Random Forest', 'KNN', 'GBM', 'Log Reg']"
      ],
      "metadata": {
        "id": "ppsA3fT5OjgU"
      },
      "execution_count": null,
      "outputs": []
    },
    {
      "cell_type": "code",
      "source": [
        "data = {'Roc' : [],\n",
        "        'F-score': [],\n",
        "        'Precision' : [],\n",
        "        'Recall' : [],\n",
        "        'Cv_score' : [],\n",
        "        'Cv_score_std' : [],\n",
        "        'Расходы без тестов и без МЛ' : [],\n",
        "        'Расходы с тестами для всех и без МЛ' : [],\n",
        "        'Расходы с МЛ' : [],\n",
        "        }\n",
        "indexes = ['Random Forest', 'KNN', 'GBM', 'Log Reg']\n",
        "for model in list_models:\n",
        "  \n",
        "\n",
        "  classifier = Pipeline([\n",
        "    ('features', feats),\n",
        "    ('classifier', model),\n",
        "  ])\n",
        "\n",
        "  cv_scores = cross_val_score(classifier, X_train, y_train, cv=7, scoring='roc_auc')\n",
        "  cv_score = np.mean(cv_scores)\n",
        "  cv_score_std = np.std(cv_scores)\n",
        "  \n",
        "  classifier.fit(X_train, y_train)\n",
        "  y_score = classifier.predict_proba(X_test)[:, 1]\n",
        "\n",
        "  # DS метрики\n",
        "  b = 1\n",
        "  precision, recall, thresholds = precision_recall_curve(y_test.values, y_score)\n",
        "  fscore = (1 +b**2) * (precision * recall) / (b**2 * precision + recall)\n",
        "  ix = np.argmax(fscore)\n",
        "  roc = roc_auc_score(y_test, classifier.predict_proba(X_test)[:, 1])\n",
        "\n",
        "  # Бизнесс метрики\n",
        "  cnf_matrix = confusion_matrix(y_test, y_score > thresholds[ix])\n",
        "  TN = cnf_matrix[0][0]\n",
        "  FN = cnf_matrix[1][0]\n",
        "  TP = cnf_matrix[1][1]\n",
        "  FP = cnf_matrix[0][1]\n",
        "  rubl_1 = (FN + TP) * rubl_late_treatment  # расходы, если не делать тест и ждать симптомов\n",
        "  rubl_test_all = np.sum(cnf_matrix) * rubl_test + (FN + TP) * rubl_early_treatment  # расходы, если делать тест всем и лечить группу большых\n",
        "  rubl_ML = (FP + TP) * rubl_test + FN * rubl_late_treatment + TP * rubl_early_treatment  # расходы, если использовать МЛ\n",
        "\n",
        "  # Собираем все метрики в 1 таблицу\n",
        "  data['Cv_score_std'].append(round(cv_score_std, 7))\n",
        "  data['Cv_score'].append(round(cv_score, 4))\n",
        "  data['F-score'].append(round(fscore[ix], 4))\n",
        "  data['Precision'].append(round(precision[ix], 4))\n",
        "  data['Recall'].append(round(recall[ix], 4))\n",
        "  data['Roc'].append(round(roc, 4))\n",
        "  data['Расходы без тестов и без МЛ'].append(rubl_1)\n",
        "  data['Расходы с тестами для всех и без МЛ'].append(rubl_test_all)\n",
        "  data['Расходы с МЛ'].append(rubl_ML)\n",
        "\n",
        "\n"
      ],
      "metadata": {
        "id": "_D6wbAyCOCNn"
      },
      "execution_count": null,
      "outputs": []
    },
    {
      "cell_type": "code",
      "source": [
        "results = pd.DataFrame(data, indexes)\n",
        "results"
      ],
      "metadata": {
        "colab": {
          "base_uri": "https://localhost:8080/",
          "height": 192
        },
        "id": "RceQQehoUPk8",
        "outputId": "d6c6175d-7806-4d85-8529-343328383f53"
      },
      "execution_count": null,
      "outputs": [
        {
          "output_type": "execute_result",
          "data": {
            "text/plain": [
              "                  Roc  F-score  Precision  Recall  Cv_score  Cv_score_std  \\\n",
              "Random Forest  0.7710   0.7189     0.6427  0.8156    0.7744      0.003611   \n",
              "KNN            0.6941   0.6859     0.5885  0.8219    0.6913      0.003437   \n",
              "GBM            0.8026   0.7402     0.6978  0.7881    0.8023      0.003068   \n",
              "Log Reg        0.7840   0.7303     0.6474  0.8376    0.7865      0.004422   \n",
              "\n",
              "               Расходы без тестов и без МЛ  \\\n",
              "Random Forest                    173600000   \n",
              "KNN                              173600000   \n",
              "GBM                              173600000   \n",
              "Log Reg                          173600000   \n",
              "\n",
              "               Расходы с тестами для всех и без МЛ  Расходы с МЛ  \n",
              "Random Forest                            154700000     153699400  \n",
              "KNN                                      154700000     158249000  \n",
              "GBM                                      154700000     153122800  \n",
              "Log Reg                                  154700000     152974200  "
            ],
            "text/html": [
              "\n",
              "  <div id=\"df-3ab437f3-b375-419c-869f-82d8744a4611\">\n",
              "    <div class=\"colab-df-container\">\n",
              "      <div>\n",
              "<style scoped>\n",
              "    .dataframe tbody tr th:only-of-type {\n",
              "        vertical-align: middle;\n",
              "    }\n",
              "\n",
              "    .dataframe tbody tr th {\n",
              "        vertical-align: top;\n",
              "    }\n",
              "\n",
              "    .dataframe thead th {\n",
              "        text-align: right;\n",
              "    }\n",
              "</style>\n",
              "<table border=\"1\" class=\"dataframe\">\n",
              "  <thead>\n",
              "    <tr style=\"text-align: right;\">\n",
              "      <th></th>\n",
              "      <th>Roc</th>\n",
              "      <th>F-score</th>\n",
              "      <th>Precision</th>\n",
              "      <th>Recall</th>\n",
              "      <th>Cv_score</th>\n",
              "      <th>Cv_score_std</th>\n",
              "      <th>Расходы без тестов и без МЛ</th>\n",
              "      <th>Расходы с тестами для всех и без МЛ</th>\n",
              "      <th>Расходы с МЛ</th>\n",
              "    </tr>\n",
              "  </thead>\n",
              "  <tbody>\n",
              "    <tr>\n",
              "      <th>Random Forest</th>\n",
              "      <td>0.7710</td>\n",
              "      <td>0.7189</td>\n",
              "      <td>0.6427</td>\n",
              "      <td>0.8156</td>\n",
              "      <td>0.7744</td>\n",
              "      <td>0.003611</td>\n",
              "      <td>173600000</td>\n",
              "      <td>154700000</td>\n",
              "      <td>153699400</td>\n",
              "    </tr>\n",
              "    <tr>\n",
              "      <th>KNN</th>\n",
              "      <td>0.6941</td>\n",
              "      <td>0.6859</td>\n",
              "      <td>0.5885</td>\n",
              "      <td>0.8219</td>\n",
              "      <td>0.6913</td>\n",
              "      <td>0.003437</td>\n",
              "      <td>173600000</td>\n",
              "      <td>154700000</td>\n",
              "      <td>158249000</td>\n",
              "    </tr>\n",
              "    <tr>\n",
              "      <th>GBM</th>\n",
              "      <td>0.8026</td>\n",
              "      <td>0.7402</td>\n",
              "      <td>0.6978</td>\n",
              "      <td>0.7881</td>\n",
              "      <td>0.8023</td>\n",
              "      <td>0.003068</td>\n",
              "      <td>173600000</td>\n",
              "      <td>154700000</td>\n",
              "      <td>153122800</td>\n",
              "    </tr>\n",
              "    <tr>\n",
              "      <th>Log Reg</th>\n",
              "      <td>0.7840</td>\n",
              "      <td>0.7303</td>\n",
              "      <td>0.6474</td>\n",
              "      <td>0.8376</td>\n",
              "      <td>0.7865</td>\n",
              "      <td>0.004422</td>\n",
              "      <td>173600000</td>\n",
              "      <td>154700000</td>\n",
              "      <td>152974200</td>\n",
              "    </tr>\n",
              "  </tbody>\n",
              "</table>\n",
              "</div>\n",
              "      <button class=\"colab-df-convert\" onclick=\"convertToInteractive('df-3ab437f3-b375-419c-869f-82d8744a4611')\"\n",
              "              title=\"Convert this dataframe to an interactive table.\"\n",
              "              style=\"display:none;\">\n",
              "        \n",
              "  <svg xmlns=\"http://www.w3.org/2000/svg\" height=\"24px\"viewBox=\"0 0 24 24\"\n",
              "       width=\"24px\">\n",
              "    <path d=\"M0 0h24v24H0V0z\" fill=\"none\"/>\n",
              "    <path d=\"M18.56 5.44l.94 2.06.94-2.06 2.06-.94-2.06-.94-.94-2.06-.94 2.06-2.06.94zm-11 1L8.5 8.5l.94-2.06 2.06-.94-2.06-.94L8.5 2.5l-.94 2.06-2.06.94zm10 10l.94 2.06.94-2.06 2.06-.94-2.06-.94-.94-2.06-.94 2.06-2.06.94z\"/><path d=\"M17.41 7.96l-1.37-1.37c-.4-.4-.92-.59-1.43-.59-.52 0-1.04.2-1.43.59L10.3 9.45l-7.72 7.72c-.78.78-.78 2.05 0 2.83L4 21.41c.39.39.9.59 1.41.59.51 0 1.02-.2 1.41-.59l7.78-7.78 2.81-2.81c.8-.78.8-2.07 0-2.86zM5.41 20L4 18.59l7.72-7.72 1.47 1.35L5.41 20z\"/>\n",
              "  </svg>\n",
              "      </button>\n",
              "      \n",
              "  <style>\n",
              "    .colab-df-container {\n",
              "      display:flex;\n",
              "      flex-wrap:wrap;\n",
              "      gap: 12px;\n",
              "    }\n",
              "\n",
              "    .colab-df-convert {\n",
              "      background-color: #E8F0FE;\n",
              "      border: none;\n",
              "      border-radius: 50%;\n",
              "      cursor: pointer;\n",
              "      display: none;\n",
              "      fill: #1967D2;\n",
              "      height: 32px;\n",
              "      padding: 0 0 0 0;\n",
              "      width: 32px;\n",
              "    }\n",
              "\n",
              "    .colab-df-convert:hover {\n",
              "      background-color: #E2EBFA;\n",
              "      box-shadow: 0px 1px 2px rgba(60, 64, 67, 0.3), 0px 1px 3px 1px rgba(60, 64, 67, 0.15);\n",
              "      fill: #174EA6;\n",
              "    }\n",
              "\n",
              "    [theme=dark] .colab-df-convert {\n",
              "      background-color: #3B4455;\n",
              "      fill: #D2E3FC;\n",
              "    }\n",
              "\n",
              "    [theme=dark] .colab-df-convert:hover {\n",
              "      background-color: #434B5C;\n",
              "      box-shadow: 0px 1px 3px 1px rgba(0, 0, 0, 0.15);\n",
              "      filter: drop-shadow(0px 1px 2px rgba(0, 0, 0, 0.3));\n",
              "      fill: #FFFFFF;\n",
              "    }\n",
              "  </style>\n",
              "\n",
              "      <script>\n",
              "        const buttonEl =\n",
              "          document.querySelector('#df-3ab437f3-b375-419c-869f-82d8744a4611 button.colab-df-convert');\n",
              "        buttonEl.style.display =\n",
              "          google.colab.kernel.accessAllowed ? 'block' : 'none';\n",
              "\n",
              "        async function convertToInteractive(key) {\n",
              "          const element = document.querySelector('#df-3ab437f3-b375-419c-869f-82d8744a4611');\n",
              "          const dataTable =\n",
              "            await google.colab.kernel.invokeFunction('convertToInteractive',\n",
              "                                                     [key], {});\n",
              "          if (!dataTable) return;\n",
              "\n",
              "          const docLinkHtml = 'Like what you see? Visit the ' +\n",
              "            '<a target=\"_blank\" href=https://colab.research.google.com/notebooks/data_table.ipynb>data table notebook</a>'\n",
              "            + ' to learn more about interactive tables.';\n",
              "          element.innerHTML = '';\n",
              "          dataTable['output_type'] = 'display_data';\n",
              "          await google.colab.output.renderOutput(dataTable, element);\n",
              "          const docLink = document.createElement('div');\n",
              "          docLink.innerHTML = docLinkHtml;\n",
              "          element.appendChild(docLink);\n",
              "        }\n",
              "      </script>\n",
              "    </div>\n",
              "  </div>\n",
              "  "
            ]
          },
          "metadata": {},
          "execution_count": 80
        }
      ]
    },
    {
      "cell_type": "markdown",
      "source": [
        "- Интересный момент, что по DS мерикам градиентный бустинг выдал лучший результат, однако по бизнесс метрикам лучая модель это Лог.Регрессия. Как я понял, это связанно с тем, что у Лог.Регрессии лучший recall, ведь  по сути чем больше Recall тем больше мы нашли больных и начали ранее лечение, которое дешевле. "
      ],
      "metadata": {
        "id": "2BY1Onhti3us"
      }
    },
    {
      "cell_type": "markdown",
      "source": [
        "### Попробуем настроить трешхолд Градиентного бустинга на лучшей бизнес результат. "
      ],
      "metadata": {
        "id": "gGM77RhqmQID"
      }
    },
    {
      "cell_type": "code",
      "source": [
        "classifier = Pipeline([\n",
        "    ('features', feats),\n",
        "    ('classifier', GradientBoostingClassifier(random_state=42)),\n",
        "  ])\n",
        "\n",
        "cv_scores = cross_val_score(classifier, X_train, y_train, cv=7, scoring='roc_auc')\n",
        "cv_score = np.mean(cv_scores)\n",
        "cv_score_std = np.std(cv_scores)\n",
        "\n",
        "classifier.fit(X_train, y_train)\n",
        "y_score = classifier.predict_proba(X_test)[:, 1]\n"
      ],
      "metadata": {
        "id": "qLkIMdZWmg9p"
      },
      "execution_count": null,
      "outputs": []
    },
    {
      "cell_type": "code",
      "source": [
        "precision, recall, thresholds = precision_recall_curve(y_test.values, y_score)"
      ],
      "metadata": {
        "id": "BfmH_RWznEaA"
      },
      "execution_count": null,
      "outputs": []
    },
    {
      "cell_type": "code",
      "source": [
        "busines_tr = business_threshold_calibrate(y_test, y_score, \n",
        "                                          thresholds[ix],\n",
        "                                          rubl_test=1400, \n",
        "                                          rubl_early_treatment=15000, \n",
        "                                          rubl_late_treatment=20000)\n",
        "\n",
        "print('уровень порога по бизнес метрике', busines_tr)\n",
        "print('уровень порога по f1 метрике', thresholds[ix])"
      ],
      "metadata": {
        "colab": {
          "base_uri": "https://localhost:8080/",
          "height": 457
        },
        "id": "sQI-4c8cJCVx",
        "outputId": "6cf23db8-96dc-494b-b9d8-5bd54743f01b"
      },
      "execution_count": null,
      "outputs": [
        {
          "output_type": "stream",
          "name": "stdout",
          "text": [
            "расходы, если не делать тест и ждать симптомов: 173600000\n",
            "расходы, если делать тест всем и лечить группу больных: 154700000\n",
            "расходы, если использовать МЛ: 152333600\n",
            "Расходы \"решение не делать тесты - расходы с МL:\" 21266400\n",
            "Расходы \"решение не делать тесты - расходы сделать тесты всем\": 18900000\n",
            "Расходы \"сделать тесты всем - решение делать тесты ML\": 2366400\n"
          ]
        },
        {
          "output_type": "display_data",
          "data": {
            "text/plain": [
              "<Figure size 432x288 with 1 Axes>"
            ],
            "image/png": "[encoded data removed]"
          },
          "metadata": {}
        },
        {
          "output_type": "stream",
          "name": "stdout",
          "text": [
            "уровень порога по бизнес метрике 0.2631578947368421\n",
            "уровень порога по f1 метрике 0.49600975431242444\n"
          ]
        }
      ]
    },
    {
      "cell_type": "markdown",
      "source": [
        "- Как видим, уровень порога по бизнес метрике и DS метрике еще больше отличается чем в Лог.Регрессии, которая до этого показывала лучший результат. Однако бизнес показатели еще выше."
      ],
      "metadata": {
        "id": "8VoBlUGfnXfS"
      }
    },
    {
      "cell_type": "code",
      "source": [
        ""
      ],
      "metadata": {
        "id": "N7elhwaRo3fT"
      },
      "execution_count": null,
      "outputs": []
    }
  ],
  "metadata": {
    "kernelspec": {
      "display_name": "Python 3",
      "language": "python",
      "name": "python3"
    },
    "language_info": {
      "codemirror_mode": {
        "name": "ipython",
        "version": 3
      },
      "file_extension": ".py",
      "mimetype": "text/x-python",
      "name": "python",
      "nbconvert_exporter": "python",
      "pygments_lexer": "ipython3",
      "version": "3.7.3"
    },
    "colab": {
      "name": "Копия блокнота \"Lesson 3.ipynb\"",
      "provenance": [],
      "collapsed_sections": []
    }
  },
  "nbformat": 4,
  "nbformat_minor": 0
}